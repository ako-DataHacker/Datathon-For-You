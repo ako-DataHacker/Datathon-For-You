{
  "nbformat": 4,
  "nbformat_minor": 0,
  "metadata": {
    "colab": {
      "name": "CometCoderTDForYou.ipynb",
      "provenance": [],
      "collapsed_sections": []
    },
    "kernelspec": {
      "name": "python3",
      "display_name": "Python 3"
    }
  },
  "cells": [
    {
      "cell_type": "markdown",
      "metadata": {
        "id": "ty3i03OmMTcq"
      },
      "source": [
        "# TD For-You Page\n",
        "\n",
        "TD wants the hackathon experience to be top-notch for everyone. To assist in this, we want to provide a **For-You** page to our future applicants on our website tamudatathon.com. Can you use the TAMU Datathon data to make this happen?\n",
        "\n",
        "**Ideas:**\n",
        "- Visualization of Achievements\n",
        "- Supervised Learning for Recommending Workshops\n",
        "- Clustering for Team Building\n",
        "- Natural Language Processing for Workshops Search Engine\n",
        "\n",
        "**Datasets:**\n",
        "\n",
        "We provide four datasets for this challenge. You are free to find your own as well.\n",
        "1. TD 2020 Applicant Data\n",
        "2. Bootcamps\n",
        "3. Workshop Queries\n",
        "4. Workshops\n",
        "\n",
        "\n",
        "The details for these datasets are here: www.datalogz.io. \n",
        "1. Make an account, and for company, enter 'TAMU Datathon'\n",
        "2. On the homepage, click 'Enter a Code' and enter SZMX5CNOZU\n",
        "3. You should have access to the relevant tables on the left hand bar\n",
        "4. Choose the desired table. Click \"Definitions\" to see column definitions\n"
      ]
    },
    {
      "cell_type": "code",
      "metadata": {
        "id": "1fnR1Gf-VtD3"
      },
      "source": [
        "import pandas as pd\n",
        "apps = pd.read_csv('https://drive.google.com/uc?id=1mPK8_AasPMdqy3D9D0kxjjKcIXmhhcQo').set_index('userid') # read 'TD 2020 Applicant' data"
      ],
      "execution_count": null,
      "outputs": []
    },
    {
      "cell_type": "code",
      "metadata": {
        "id": "lMVY_esyV5I_",
        "outputId": "45d1b66e-640a-4196-cca3-4a81fe156400",
        "colab": {
          "base_uri": "https://localhost:8080/",
          "height": 612
        }
      },
      "source": [
        "display(apps.head(2))\n",
        "display(apps.columns)\n",
        "print(apps.dtypes)"
      ],
      "execution_count": null,
      "outputs": [
        {
          "output_type": "display_data",
          "data": {
            "text/html": [
              "<div>\n",
              "<style scoped>\n",
              "    .dataframe tbody tr th:only-of-type {\n",
              "        vertical-align: middle;\n",
              "    }\n",
              "\n",
              "    .dataframe tbody tr th {\n",
              "        vertical-align: top;\n",
              "    }\n",
              "\n",
              "    .dataframe thead th {\n",
              "        text-align: right;\n",
              "    }\n",
              "</style>\n",
              "<table border=\"1\" class=\"dataframe\">\n",
              "  <thead>\n",
              "    <tr style=\"text-align: right;\">\n",
              "      <th></th>\n",
              "      <th>school</th>\n",
              "      <th>other_school</th>\n",
              "      <th>majors</th>\n",
              "      <th>minors</th>\n",
              "      <th>age_bin</th>\n",
              "      <th>classification</th>\n",
              "      <th>first_generation</th>\n",
              "      <th>datascience_experience</th>\n",
              "      <th>technology_experience</th>\n",
              "      <th>num_hackathons_attended</th>\n",
              "      <th>workshop_suggestions</th>\n",
              "      <th>relavent_industries</th>\n",
              "    </tr>\n",
              "    <tr>\n",
              "      <th>userid</th>\n",
              "      <th></th>\n",
              "      <th></th>\n",
              "      <th></th>\n",
              "      <th></th>\n",
              "      <th></th>\n",
              "      <th></th>\n",
              "      <th></th>\n",
              "      <th></th>\n",
              "      <th></th>\n",
              "      <th></th>\n",
              "      <th></th>\n",
              "      <th></th>\n",
              "    </tr>\n",
              "  </thead>\n",
              "  <tbody>\n",
              "    <tr>\n",
              "      <th>95030aef3e970680d882f1527f549d9e</th>\n",
              "      <td>Texas A&amp;M University</td>\n",
              "      <td>NaN</td>\n",
              "      <td>['Landscape Architecture &amp; Urban Planning', 'P...</td>\n",
              "      <td>['Soil and Crop Sciences']</td>\n",
              "      <td>(25, 30]</td>\n",
              "      <td>Ma</td>\n",
              "      <td>False</td>\n",
              "      <td>2</td>\n",
              "      <td>['Excel', 'Python', 'Tableau', 'Pandas']</td>\n",
              "      <td>0</td>\n",
              "      <td>Python Fundamentals (Functions/Loops)\\nVisuali...</td>\n",
              "      <td>['consulting', 'public_policy', 'other']</td>\n",
              "    </tr>\n",
              "    <tr>\n",
              "      <th>68ad76832a913de0d62df103b3d5b807</th>\n",
              "      <td>Texas A&amp;M University</td>\n",
              "      <td>NaN</td>\n",
              "      <td>['Electrical Engineering', 'Material Science',...</td>\n",
              "      <td>[]</td>\n",
              "      <td>(18, 20]</td>\n",
              "      <td>Jr</td>\n",
              "      <td>True</td>\n",
              "      <td>2</td>\n",
              "      <td>['Excel', 'Python', 'Pandas', 'NumPy', 'MATLAB']</td>\n",
              "      <td>0</td>\n",
              "      <td>Training videos on different levels of machine...</td>\n",
              "      <td>['technology', 'education', 'healthcare', 'ins...</td>\n",
              "    </tr>\n",
              "  </tbody>\n",
              "</table>\n",
              "</div>"
            ],
            "text/plain": [
              "                                                school  ...                                relavent_industries\n",
              "userid                                                  ...                                                   \n",
              "95030aef3e970680d882f1527f549d9e  Texas A&M University  ...           ['consulting', 'public_policy', 'other']\n",
              "68ad76832a913de0d62df103b3d5b807  Texas A&M University  ...  ['technology', 'education', 'healthcare', 'ins...\n",
              "\n",
              "[2 rows x 12 columns]"
            ]
          },
          "metadata": {
            "tags": []
          }
        },
        {
          "output_type": "display_data",
          "data": {
            "text/plain": [
              "Index(['school', 'other_school', 'majors', 'minors', 'age_bin',\n",
              "       'classification', 'first_generation', 'datascience_experience',\n",
              "       'technology_experience', 'num_hackathons_attended',\n",
              "       'workshop_suggestions', 'relavent_industries'],\n",
              "      dtype='object')"
            ]
          },
          "metadata": {
            "tags": []
          }
        },
        {
          "output_type": "stream",
          "text": [
            "school                     object\n",
            "other_school               object\n",
            "majors                     object\n",
            "minors                     object\n",
            "age_bin                    object\n",
            "classification             object\n",
            "first_generation             bool\n",
            "datascience_experience      int64\n",
            "technology_experience      object\n",
            "num_hackathons_attended    object\n",
            "workshop_suggestions       object\n",
            "relavent_industries        object\n",
            "dtype: object\n"
          ],
          "name": "stdout"
        }
      ]
    },
    {
      "cell_type": "code",
      "metadata": {
        "id": "C9HHxJRF1o1x"
      },
      "source": [
        "bootcamp = pd.read_csv('https://drive.google.com/uc?id=1sovKLesEqPbkUte_ysRP9mGQ1gFCO2ME').set_index('userid') # read 'Bootcamp' data"
      ],
      "execution_count": null,
      "outputs": []
    },
    {
      "cell_type": "code",
      "metadata": {
        "id": "Nr2Ud0IM0cSV",
        "outputId": "fb368655-89fa-408c-92f7-3c8f3672a754",
        "colab": {
          "base_uri": "https://localhost:8080/",
          "height": 143
        }
      },
      "source": [
        "bootcamp.head(2)"
      ],
      "execution_count": null,
      "outputs": [
        {
          "output_type": "execute_result",
          "data": {
            "text/html": [
              "<div>\n",
              "<style scoped>\n",
              "    .dataframe tbody tr th:only-of-type {\n",
              "        vertical-align: middle;\n",
              "    }\n",
              "\n",
              "    .dataframe tbody tr th {\n",
              "        vertical-align: top;\n",
              "    }\n",
              "\n",
              "    .dataframe thead th {\n",
              "        text-align: right;\n",
              "    }\n",
              "</style>\n",
              "<table border=\"1\" class=\"dataframe\">\n",
              "  <thead>\n",
              "    <tr style=\"text-align: right;\">\n",
              "      <th></th>\n",
              "      <th>workshop</th>\n",
              "    </tr>\n",
              "    <tr>\n",
              "      <th>userid</th>\n",
              "      <th></th>\n",
              "    </tr>\n",
              "  </thead>\n",
              "  <tbody>\n",
              "    <tr>\n",
              "      <th>f48d02fd46d249ab2c37f925f405139f</th>\n",
              "      <td>Data Science: Start Here</td>\n",
              "    </tr>\n",
              "    <tr>\n",
              "      <th>f48d02fd46d249ab2c37f925f405139f</th>\n",
              "      <td>Getting a Job in Data Science</td>\n",
              "    </tr>\n",
              "  </tbody>\n",
              "</table>\n",
              "</div>"
            ],
            "text/plain": [
              "                                                       workshop\n",
              "userid                                                         \n",
              "f48d02fd46d249ab2c37f925f405139f       Data Science: Start Here\n",
              "f48d02fd46d249ab2c37f925f405139f  Getting a Job in Data Science"
            ]
          },
          "metadata": {
            "tags": []
          },
          "execution_count": 18
        }
      ]
    },
    {
      "cell_type": "code",
      "metadata": {
        "id": "w1ruDxut5eFj",
        "outputId": "a1b4171a-5d09-480e-aec0-e18f6c0469ec",
        "colab": {
          "base_uri": "https://localhost:8080/",
          "height": 108
        }
      },
      "source": [
        "joined = bootcamp.join(apps)\n",
        "joined.columns"
      ],
      "execution_count": null,
      "outputs": [
        {
          "output_type": "execute_result",
          "data": {
            "text/plain": [
              "Index(['workshop', 'school', 'other_school', 'majors', 'minors', 'age_bin',\n",
              "       'classification', 'first_generation', 'datascience_experience',\n",
              "       'technology_experience', 'num_hackathons_attended',\n",
              "       'workshop_suggestions', 'relavent_industries'],\n",
              "      dtype='object')"
            ]
          },
          "metadata": {
            "tags": []
          },
          "execution_count": 22
        }
      ]
    },
    {
      "cell_type": "markdown",
      "metadata": {
        "id": "YrcbBKotfUKn"
      },
      "source": [
        "# Visualization for Sponsorships?\n",
        "Awesome sponsors make an awesome TD. Sponsors want to know why they should sponsor datathon. Can you answer this for them using data viz and EDA?"
      ]
    },
    {
      "cell_type": "code",
      "metadata": {
        "id": "MGd6GR2TfZZo",
        "outputId": "552846ec-9fc9-485e-f607-8d446eec7dd1",
        "colab": {
          "base_uri": "https://localhost:8080/",
          "height": 420
        }
      },
      "source": [
        "import matplotlib.pyplot as plt\n",
        "\n",
        "fig, (ax1, ax2) = plt.subplots(1, 2, figsize=(14, 10))\n",
        "apps.relavent_industries.apply(eval).explode().value_counts().plot.pie(ax=ax1)\n",
        "ax1.set_title('Applicant Interest in Industries')\n",
        "apps.majors.apply(eval).explode().value_counts()[:10].plot.pie(ax=ax2)\n",
        "ax2.set_title('Top 10 Majors')"
      ],
      "execution_count": null,
      "outputs": [
        {
          "output_type": "execute_result",
          "data": {
            "text/plain": [
              "Text(0.5, 1.0, 'Top 10 Majors')"
            ]
          },
          "metadata": {
            "tags": []
          },
          "execution_count": 59
        },
        {
          "output_type": "display_data",
          "data": {
            "image/png": "[encoded data removed]",
            "text/plain": [
              "<Figure size 1008x720 with 2 Axes>"
            ]
          },
          "metadata": {
            "tags": []
          }
        }
      ]
    },
    {
      "cell_type": "code",
      "metadata": {
        "id": "I0wof6u181wb",
        "outputId": "ab5b5754-8562-44a7-c92f-dc4ade4dd76e",
        "colab": {
          "base_uri": "https://localhost:8080/",
          "height": 187
        }
      },
      "source": [
        "print(f'Predicting {joined.workshop.nunique()} workshops')\n",
        "joined.workshop.value_counts(normalize=True).round(2)"
      ],
      "execution_count": null,
      "outputs": [
        {
          "output_type": "stream",
          "text": [
            "Predicting 8 workshops\n"
          ],
          "name": "stdout"
        },
        {
          "output_type": "execute_result",
          "data": {
            "text/plain": [
              "Data Science: Start Here                                 0.23\n",
              "Getting a Job in Data Science                            0.22\n",
              "Natural Language Processing                              0.12\n",
              "Hacking Unsupervised Clustering Algorithms               0.10\n",
              "Machine Learning: Start Here                             0.10\n",
              "Convolutional Neural Networks & Semantic Segmentation    0.09\n",
              "Model Interpretability                                   0.07\n",
              "Story Telling With Data                                  0.07\n",
              "Name: workshop, dtype: float64"
            ]
          },
          "metadata": {
            "tags": []
          },
          "execution_count": 8
        }
      ]
    },
    {
      "cell_type": "markdown",
      "metadata": {
        "id": "PNqxjNvDfKxs"
      },
      "source": [
        "# Supervised Learning for Recommending Workshops?\n",
        "- Netflix recommends movies, Amazon recommends products, why can't TD recommend workshops to participants?"
      ]
    },
    {
      "cell_type": "code",
      "metadata": {
        "id": "V8tzkpkF8DiW"
      },
      "source": [
        "target_name = 'workshop'\n",
        "feature_names = ['datascience_experience', 'age_bin', 'classification', 'num_hackathons_attended']\n",
        "target = joined[target_name]\n",
        "features = joined[feature_names]\n"
      ],
      "execution_count": null,
      "outputs": []
    },
    {
      "cell_type": "code",
      "metadata": {
        "id": "SXOMdlmcFdQ6",
        "outputId": "23e6a5b4-5e83-4cf0-aa49-09dd3476811e",
        "colab": {
          "base_uri": "https://localhost:8080/",
          "height": 930
        }
      },
      "source": [
        "# Processing data - converting categorical attributes into numerics for sklearn models\n",
        "display(features.head(5))\n",
        "print(features.loc[:, \"age_bin\"].value_counts())\n",
        "features.loc[:, \"age_bin\"] = features.loc[:, \"age_bin\"].map({\"(15, 18]\": 16.5, \"(18, 20]\": 19, \"(20, 22]\": 21, \"(22, 25]\": 23.5, \"(25, 30]\": 27.5, \"(30, 50]\": 40})\n",
        "print(features.loc[:, \"classification\"].value_counts())\n",
        "features.loc[:, \"classification\"] = features.loc[:, \"classification\"].map({\"O\": 1, \"Fr\": 2, \"So\": 3, \"Jr\" : 4, \"Sr\": 5, \"Ma\": 6, \"PhD\": 7})\n",
        "print(features.loc[:, \"num_hackathons_attended\"].value_counts())\n",
        "features.loc[:, \"num_hackathons_attended\"] = features.loc[:, \"num_hackathons_attended\"].map({\"0\": 0, \"1-3\": 2, \"4-7\": 5.5, \"8-10\": 9})\n",
        "features.head(5)\n",
        "\n",
        "# This returns a settingwithcopy warning... not sure why since the code effectively changes the dataframe to what I want. "
      ],
      "execution_count": null,
      "outputs": [
        {
          "output_type": "display_data",
          "data": {
            "text/html": [
              "<div>\n",
              "<style scoped>\n",
              "    .dataframe tbody tr th:only-of-type {\n",
              "        vertical-align: middle;\n",
              "    }\n",
              "\n",
              "    .dataframe tbody tr th {\n",
              "        vertical-align: top;\n",
              "    }\n",
              "\n",
              "    .dataframe thead th {\n",
              "        text-align: right;\n",
              "    }\n",
              "</style>\n",
              "<table border=\"1\" class=\"dataframe\">\n",
              "  <thead>\n",
              "    <tr style=\"text-align: right;\">\n",
              "      <th></th>\n",
              "      <th>datascience_experience</th>\n",
              "      <th>age_bin</th>\n",
              "      <th>classification</th>\n",
              "      <th>num_hackathons_attended</th>\n",
              "    </tr>\n",
              "    <tr>\n",
              "      <th>userid</th>\n",
              "      <th></th>\n",
              "      <th></th>\n",
              "      <th></th>\n",
              "      <th></th>\n",
              "    </tr>\n",
              "  </thead>\n",
              "  <tbody>\n",
              "    <tr>\n",
              "      <th>002314e62544dcb65e08d3483c4ffa75</th>\n",
              "      <td>1</td>\n",
              "      <td>(18, 20]</td>\n",
              "      <td>Jr</td>\n",
              "      <td>1-3</td>\n",
              "    </tr>\n",
              "    <tr>\n",
              "      <th>011c08999895a8a06f6e7f0e23b066b9</th>\n",
              "      <td>4</td>\n",
              "      <td>(30, 50]</td>\n",
              "      <td>Jr</td>\n",
              "      <td>0</td>\n",
              "    </tr>\n",
              "    <tr>\n",
              "      <th>011c08999895a8a06f6e7f0e23b066b9</th>\n",
              "      <td>4</td>\n",
              "      <td>(30, 50]</td>\n",
              "      <td>Jr</td>\n",
              "      <td>0</td>\n",
              "    </tr>\n",
              "    <tr>\n",
              "      <th>011c08999895a8a06f6e7f0e23b066b9</th>\n",
              "      <td>4</td>\n",
              "      <td>(30, 50]</td>\n",
              "      <td>Jr</td>\n",
              "      <td>0</td>\n",
              "    </tr>\n",
              "    <tr>\n",
              "      <th>011c08999895a8a06f6e7f0e23b066b9</th>\n",
              "      <td>4</td>\n",
              "      <td>(30, 50]</td>\n",
              "      <td>Jr</td>\n",
              "      <td>0</td>\n",
              "    </tr>\n",
              "  </tbody>\n",
              "</table>\n",
              "</div>"
            ],
            "text/plain": [
              "                                  datascience_experience  ... num_hackathons_attended\n",
              "userid                                                    ...                        \n",
              "002314e62544dcb65e08d3483c4ffa75                       1  ...                     1-3\n",
              "011c08999895a8a06f6e7f0e23b066b9                       4  ...                       0\n",
              "011c08999895a8a06f6e7f0e23b066b9                       4  ...                       0\n",
              "011c08999895a8a06f6e7f0e23b066b9                       4  ...                       0\n",
              "011c08999895a8a06f6e7f0e23b066b9                       4  ...                       0\n",
              "\n",
              "[5 rows x 4 columns]"
            ]
          },
          "metadata": {
            "tags": []
          }
        },
        {
          "output_type": "stream",
          "text": [
            "(18, 20]    68\n",
            "(25, 30]    42\n",
            "(22, 25]    34\n",
            "(20, 22]    29\n",
            "(30, 50]    22\n",
            "(15, 18]    19\n",
            "Name: age_bin, dtype: int64\n",
            "Ma     56\n",
            "Jr     49\n",
            "PhD    34\n",
            "So     29\n",
            "Sr     27\n",
            "Fr     13\n",
            "O       6\n",
            "Name: classification, dtype: int64\n",
            "0       108\n",
            "1-3      78\n",
            "4-7      24\n",
            "8-10      4\n",
            "Name: num_hackathons_attended, dtype: int64\n"
          ],
          "name": "stdout"
        },
        {
          "output_type": "stream",
          "text": [
            "/usr/local/lib/python3.6/dist-packages/pandas/core/indexing.py:1745: SettingWithCopyWarning: \n",
            "A value is trying to be set on a copy of a slice from a DataFrame.\n",
            "Try using .loc[row_indexer,col_indexer] = value instead\n",
            "\n",
            "See the caveats in the documentation: https://pandas.pydata.org/pandas-docs/stable/user_guide/indexing.html#returning-a-view-versus-a-copy\n",
            "  isetter(ilocs[0], value)\n"
          ],
          "name": "stderr"
        },
        {
          "output_type": "execute_result",
          "data": {
            "text/html": [
              "<div>\n",
              "<style scoped>\n",
              "    .dataframe tbody tr th:only-of-type {\n",
              "        vertical-align: middle;\n",
              "    }\n",
              "\n",
              "    .dataframe tbody tr th {\n",
              "        vertical-align: top;\n",
              "    }\n",
              "\n",
              "    .dataframe thead th {\n",
              "        text-align: right;\n",
              "    }\n",
              "</style>\n",
              "<table border=\"1\" class=\"dataframe\">\n",
              "  <thead>\n",
              "    <tr style=\"text-align: right;\">\n",
              "      <th></th>\n",
              "      <th>datascience_experience</th>\n",
              "      <th>age_bin</th>\n",
              "      <th>classification</th>\n",
              "      <th>num_hackathons_attended</th>\n",
              "    </tr>\n",
              "    <tr>\n",
              "      <th>userid</th>\n",
              "      <th></th>\n",
              "      <th></th>\n",
              "      <th></th>\n",
              "      <th></th>\n",
              "    </tr>\n",
              "  </thead>\n",
              "  <tbody>\n",
              "    <tr>\n",
              "      <th>002314e62544dcb65e08d3483c4ffa75</th>\n",
              "      <td>1</td>\n",
              "      <td>19.0</td>\n",
              "      <td>4</td>\n",
              "      <td>2.0</td>\n",
              "    </tr>\n",
              "    <tr>\n",
              "      <th>011c08999895a8a06f6e7f0e23b066b9</th>\n",
              "      <td>4</td>\n",
              "      <td>40.0</td>\n",
              "      <td>4</td>\n",
              "      <td>0.0</td>\n",
              "    </tr>\n",
              "    <tr>\n",
              "      <th>011c08999895a8a06f6e7f0e23b066b9</th>\n",
              "      <td>4</td>\n",
              "      <td>40.0</td>\n",
              "      <td>4</td>\n",
              "      <td>0.0</td>\n",
              "    </tr>\n",
              "    <tr>\n",
              "      <th>011c08999895a8a06f6e7f0e23b066b9</th>\n",
              "      <td>4</td>\n",
              "      <td>40.0</td>\n",
              "      <td>4</td>\n",
              "      <td>0.0</td>\n",
              "    </tr>\n",
              "    <tr>\n",
              "      <th>011c08999895a8a06f6e7f0e23b066b9</th>\n",
              "      <td>4</td>\n",
              "      <td>40.0</td>\n",
              "      <td>4</td>\n",
              "      <td>0.0</td>\n",
              "    </tr>\n",
              "  </tbody>\n",
              "</table>\n",
              "</div>"
            ],
            "text/plain": [
              "                                  datascience_experience  ...  num_hackathons_attended\n",
              "userid                                                    ...                         \n",
              "002314e62544dcb65e08d3483c4ffa75                       1  ...                      2.0\n",
              "011c08999895a8a06f6e7f0e23b066b9                       4  ...                      0.0\n",
              "011c08999895a8a06f6e7f0e23b066b9                       4  ...                      0.0\n",
              "011c08999895a8a06f6e7f0e23b066b9                       4  ...                      0.0\n",
              "011c08999895a8a06f6e7f0e23b066b9                       4  ...                      0.0\n",
              "\n",
              "[5 rows x 4 columns]"
            ]
          },
          "metadata": {
            "tags": []
          },
          "execution_count": 95
        }
      ]
    },
    {
      "cell_type": "code",
      "metadata": {
        "id": "3L4xBmjY9KXo",
        "outputId": "d2fc00ca-1c80-4203-d3a9-e391a093191c",
        "colab": {
          "base_uri": "https://localhost:8080/",
          "height": 35
        }
      },
      "source": [
        "from sklearn.dummy import DummyClassifier\n",
        "clf = DummyClassifier(strategy='most_frequent')\n",
        "clf.fit(features, target)\n",
        "dummy_predictions = clf.predict(features)\n",
        "np.unique(dummy_predictions, return_counts=True)"
      ],
      "execution_count": null,
      "outputs": [
        {
          "output_type": "execute_result",
          "data": {
            "text/plain": [
              "(array(['Data Science: Start Here'], dtype='<U24'), array([214]))"
            ]
          },
          "metadata": {
            "tags": []
          },
          "execution_count": 138
        }
      ]
    },
    {
      "cell_type": "code",
      "metadata": {
        "id": "0H9hEtI48f5o",
        "outputId": "c085a383-c335-435b-c1bf-0725a86a9b85",
        "colab": {
          "base_uri": "https://localhost:8080/",
          "height": 35
        }
      },
      "source": [
        "from sklearn.model_selection import cross_val_score\n",
        "cross_val_score(clf, features, target).mean().round(2)"
      ],
      "execution_count": null,
      "outputs": [
        {
          "output_type": "execute_result",
          "data": {
            "text/plain": [
              "0.23"
            ]
          },
          "metadata": {
            "tags": []
          },
          "execution_count": 129
        }
      ]
    },
    {
      "cell_type": "code",
      "metadata": {
        "id": "WlLCKIy4HdCG",
        "outputId": "64f0c635-b82f-4797-f3a6-41187f3fb3c3",
        "colab": {
          "base_uri": "https://localhost:8080/",
          "height": 35
        }
      },
      "source": [
        "from sklearn.linear_model import LogisticRegression as LR\n",
        "from sklearn.metrics import f1_score\n",
        "from sklearn.model_selection import train_test_split \n",
        "import numpy as np\n",
        "\n",
        "# Perform test-train split for various validation methods\n",
        "X_train, X_test, y_train, y_test = train_test_split(features, target)\n",
        "\n",
        "# Build and test LR model (we balance the class weight since there is significant class imbalance)\n",
        "LRmodelWeighted = LR(penalty='l2', verbose=0, max_iter=1000, class_weight = \"balanced\")\n",
        "\n",
        "# Logistic Regression\n",
        "LRmodel = LR(penalty = 'l2', verbose = 0, max_iter=1000)\n",
        "LRaccuracy = cross_val_score(LRmodel, features, target).mean().round(2)\n",
        "LRf1 = f1_score(target, )\n",
        "\n",
        "\n",
        "\n"
      ],
      "execution_count": 139,
      "outputs": [
        {
          "output_type": "execute_result",
          "data": {
            "text/plain": [
              "0.14"
            ]
          },
          "metadata": {
            "tags": []
          },
          "execution_count": 139
        }
      ]
    },
    {
      "cell_type": "code",
      "metadata": {
        "id": "AL4Amee-k2oh"
      },
      "source": [
        "#nikita can u see this\n",
        "#Yes I can. Seems like google colab doesn't show the pfp icon when others are editing unlike google drive."
      ],
      "execution_count": null,
      "outputs": []
    },
    {
      "cell_type": "code",
      "metadata": {
        "id": "rvH2hktmC9GQ",
        "cellView": "form"
      },
      "source": [
        "#@title MAP@K\n",
        "#@markdown MAP@K is a metric you should report for your recommendation engine!\n",
        "\n",
        "import numpy as np\n",
        "\n",
        "def apk(actual, predicted, k):\n",
        "    \"\"\"\n",
        "    Computes the average precision at k.\n",
        "    This function computes the average prescision at k between two lists of\n",
        "    items.\n",
        "    Parameters\n",
        "    ----------\n",
        "    actual : list\n",
        "             A list of elements that are to be predicted (order doesn't matter)\n",
        "    predicted : list\n",
        "                A list of predicted elements (order does matter)\n",
        "    k : int, optional\n",
        "        The maximum number of predicted elements\n",
        "    Returns\n",
        "    -------\n",
        "    score : double\n",
        "            The average precision at k over the input lists\n",
        "    \"\"\"\n",
        "    if len(predicted)>k:\n",
        "        predicted = predicted[:k]\n",
        "\n",
        "    score = 0.0\n",
        "    num_hits = 0.0\n",
        "\n",
        "    for i,p in enumerate(predicted):\n",
        "        if p in actual and p not in predicted[:i]:\n",
        "            num_hits += 1.0\n",
        "            score += num_hits / (i+1.0)\n",
        "\n",
        "    if not actual:\n",
        "        return 0.0\n",
        "\n",
        "    return score / min(len(actual), k)\n",
        "\n",
        "def mapk(actual, predicted, k=1):\n",
        "    \"\"\"\n",
        "    Computes the mean average precision at k.\n",
        "    This function computes the mean average prescision at k between two lists\n",
        "    of lists of items.\n",
        "    Parameters\n",
        "    ----------\n",
        "    actual : list\n",
        "             A list of lists of elements that are to be predicted \n",
        "             (order doesn't matter in the lists)\n",
        "    predicted : list\n",
        "                A list of lists of predicted elements\n",
        "                (order matters in the lists)\n",
        "    k : int, optional\n",
        "        The maximum number of predicted elements\n",
        "    Returns\n",
        "    -------\n",
        "    score : double\n",
        "            The mean average precision at k over the input lists\n",
        "    \"\"\"\n",
        "    return np.mean([apk(a,p,k) for a,p in zip(actual, predicted)])\n"
      ],
      "execution_count": null,
      "outputs": []
    },
    {
      "cell_type": "code",
      "metadata": {
        "id": "tKuPOIKk_GiF"
      },
      "source": [
        "# get the pairings of (user, list of ws attended)\n",
        "actual = bootcamp.groupby('userid').workshop.apply(list)\n",
        "# get the corresponding users from the applications df\n",
        "reindexed = apps.loc[actual.index]"
      ],
      "execution_count": null,
      "outputs": []
    },
    {
      "cell_type": "code",
      "metadata": {
        "id": "TYDS41NOHeCV"
      },
      "source": [
        "def get_ordered_predictions(clf, features):\n",
        "  probs = clf.predict_proba(features)\n",
        "  predicted_idx = np.argsort(probs, axis=1)[:,::-1]\n",
        "  return clf.classes_[predicted_idx]\n",
        "\n",
        "clf.fit(features, target)\n",
        "preds = get_ordered_predictions(clf, reindexed[feature_names])"
      ],
      "execution_count": null,
      "outputs": []
    },
    {
      "cell_type": "code",
      "metadata": {
        "id": "D7Jsb1j9OmPU",
        "outputId": "a6e4a001-cd12-448a-8b6a-68aeb7e1ebe3",
        "colab": {
          "base_uri": "https://localhost:8080/",
          "height": 34
        }
      },
      "source": [
        "mapk(actual, preds, k=1)"
      ],
      "execution_count": null,
      "outputs": [
        {
          "output_type": "execute_result",
          "data": {
            "text/plain": [
              "0.5833333333333334"
            ]
          },
          "metadata": {
            "tags": []
          },
          "execution_count": 19
        }
      ]
    },
    {
      "cell_type": "markdown",
      "metadata": {
        "id": "xiFdrKFgfAK-"
      },
      "source": [
        "# Clustering for Team Building?\n",
        "- Due to COVID, finding people to team with amoungst the 1200 other particants can be daunting. Could you recommend teamates considering such things as time zone? Think Facebook/Linkedin friend recommender..."
      ]
    },
    {
      "cell_type": "markdown",
      "metadata": {
        "id": "Dl8jREmPa994"
      },
      "source": [
        "# Natural Language Processing for Finding Workshops?\n",
        "\n",
        "- Finding the right workshop to attend can be tricky and time is valuable during a datathon. Build a search engine for TD workshops that allows particpants to use natural langauge queries to find workshops, e.g. \"how to import a dataset\" -> Data Wrangling\n",
        "- Idea: What if you trained word embeddings on towards data science [articles](https://www.kaggle.com/dorianlazar/medium-articles-dataset)?"
      ]
    },
    {
      "cell_type": "code",
      "metadata": {
        "id": "e4oTYfj7aPHL"
      },
      "source": [
        "queries = pd.read_csv('https://drive.google.com/uc?id=1ff4xFh4fl0-SvpYNeYQoNvDbzdiZfn-t')\n",
        "workshops = pd.read_csv('https://drive.google.com/uc?id=10MngpIZoAGgwAk_sxoORj7WPYs74nz5Y')"
      ],
      "execution_count": null,
      "outputs": []
    },
    {
      "cell_type": "code",
      "metadata": {
        "id": "vmEKLyoI--Ye",
        "outputId": "454a23d3-cb60-43ed-98b6-e45cecdd3656",
        "colab": {
          "base_uri": "https://localhost:8080/",
          "height": 111
        }
      },
      "source": [
        "queries.head(2)"
      ],
      "execution_count": null,
      "outputs": [
        {
          "output_type": "execute_result",
          "data": {
            "text/html": [
              "<div>\n",
              "<style scoped>\n",
              "    .dataframe tbody tr th:only-of-type {\n",
              "        vertical-align: middle;\n",
              "    }\n",
              "\n",
              "    .dataframe tbody tr th {\n",
              "        vertical-align: top;\n",
              "    }\n",
              "\n",
              "    .dataframe thead th {\n",
              "        text-align: right;\n",
              "    }\n",
              "</style>\n",
              "<table border=\"1\" class=\"dataframe\">\n",
              "  <thead>\n",
              "    <tr style=\"text-align: right;\">\n",
              "      <th></th>\n",
              "      <th>query</th>\n",
              "      <th>workshop</th>\n",
              "    </tr>\n",
              "  </thead>\n",
              "  <tbody>\n",
              "    <tr>\n",
              "      <th>0</th>\n",
              "      <td>Using machine learning</td>\n",
              "      <td>Machine Learning Part 2/2: Applied</td>\n",
              "    </tr>\n",
              "    <tr>\n",
              "      <th>1</th>\n",
              "      <td>underlying math</td>\n",
              "      <td>Machine Learning Part 1/2: Theory</td>\n",
              "    </tr>\n",
              "  </tbody>\n",
              "</table>\n",
              "</div>"
            ],
            "text/plain": [
              "                    query                            workshop\n",
              "0  Using machine learning  Machine Learning Part 2/2: Applied\n",
              "1         underlying math   Machine Learning Part 1/2: Theory"
            ]
          },
          "metadata": {
            "tags": []
          },
          "execution_count": 21
        }
      ]
    },
    {
      "cell_type": "code",
      "metadata": {
        "id": "fk5RZ7Wi-_1F",
        "outputId": "05817d73-6528-4f4c-f8ed-0fe0b7a87ac2",
        "colab": {
          "base_uri": "https://localhost:8080/",
          "height": 111
        }
      },
      "source": [
        "workshops.head(2)"
      ],
      "execution_count": null,
      "outputs": [
        {
          "output_type": "execute_result",
          "data": {
            "text/html": [
              "<div>\n",
              "<style scoped>\n",
              "    .dataframe tbody tr th:only-of-type {\n",
              "        vertical-align: middle;\n",
              "    }\n",
              "\n",
              "    .dataframe tbody tr th {\n",
              "        vertical-align: top;\n",
              "    }\n",
              "\n",
              "    .dataframe thead th {\n",
              "        text-align: right;\n",
              "    }\n",
              "</style>\n",
              "<table border=\"1\" class=\"dataframe\">\n",
              "  <thead>\n",
              "    <tr style=\"text-align: right;\">\n",
              "      <th></th>\n",
              "      <th>event</th>\n",
              "      <th>workshop</th>\n",
              "      <th>tags</th>\n",
              "      <th>description</th>\n",
              "      <th>track</th>\n",
              "      <th>difficulty</th>\n",
              "    </tr>\n",
              "  </thead>\n",
              "  <tbody>\n",
              "    <tr>\n",
              "      <th>0</th>\n",
              "      <td>TD 2020</td>\n",
              "      <td>Introduction to Python</td>\n",
              "      <td>for, loops, functions, while, logic, variables...</td>\n",
              "      <td>Are you new to programming? Or do you want a r...</td>\n",
              "      <td>CS</td>\n",
              "      <td>0</td>\n",
              "    </tr>\n",
              "    <tr>\n",
              "      <th>1</th>\n",
              "      <td>TD 2020</td>\n",
              "      <td>Storytelling with Data</td>\n",
              "      <td>presenting, impact, business, data science</td>\n",
              "      <td>In this talk, we will describe how we use data...</td>\n",
              "      <td>Industry</td>\n",
              "      <td>0</td>\n",
              "    </tr>\n",
              "  </tbody>\n",
              "</table>\n",
              "</div>"
            ],
            "text/plain": [
              "     event                workshop  ...     track difficulty\n",
              "0  TD 2020  Introduction to Python  ...        CS          0\n",
              "1  TD 2020  Storytelling with Data  ...  Industry          0\n",
              "\n",
              "[2 rows x 6 columns]"
            ]
          },
          "metadata": {
            "tags": []
          },
          "execution_count": 22
        }
      ]
    },
    {
      "cell_type": "code",
      "metadata": {
        "id": "NhVb5KRNl-F8"
      },
      "source": [
        "workshops.tags = workshops.tags.apply(lambda xs: xs.split(', '))"
      ],
      "execution_count": null,
      "outputs": []
    },
    {
      "cell_type": "code",
      "metadata": {
        "id": "7A3ep7H8kPcK",
        "outputId": "5714c688-82ab-40b5-dc86-72209efc6a72",
        "colab": {
          "base_uri": "https://localhost:8080/",
          "height": 34
        }
      },
      "source": [
        "# load the Stanford GloVe model\n",
        "import requests\n",
        "url = 'https://td2020-static.s3.amazonaws.com/glove.6B.50d.txt'\n",
        "r = requests.get(url)\n",
        "open('glove.6B.50d.txt', 'wb').write(r.content) "
      ],
      "execution_count": null,
      "outputs": [
        {
          "output_type": "execute_result",
          "data": {
            "text/plain": [
              "171350079"
            ]
          },
          "metadata": {
            "tags": []
          },
          "execution_count": 24
        }
      ]
    },
    {
      "cell_type": "code",
      "metadata": {
        "id": "i5V-U-eZiIrP",
        "outputId": "68da29f3-80e6-4a91-b393-d2c1ad473e48",
        "colab": {
          "base_uri": "https://localhost:8080/",
          "height": 88
        }
      },
      "source": [
        "from gensim.scripts.glove2word2vec import glove2word2vec\n",
        "glove_input_file = 'glove.6B.50d.txt'\n",
        "word2vec_output_file = 'glove.6B.50d.txt.word2vec'\n",
        "glove2word2vec(glove_input_file, word2vec_output_file)"
      ],
      "execution_count": null,
      "outputs": [
        {
          "output_type": "stream",
          "text": [
            "/usr/local/lib/python3.6/dist-packages/smart_open/smart_open_lib.py:252: UserWarning: This function is deprecated, use smart_open.open instead. See the migration notes for details: https://github.com/RaRe-Technologies/smart_open/blob/master/README.rst#migrating-to-the-new-open-function\n",
            "  'See the migration notes for details: %s' % _MIGRATION_NOTES_URL\n"
          ],
          "name": "stderr"
        },
        {
          "output_type": "execute_result",
          "data": {
            "text/plain": [
              "(400000, 50)"
            ]
          },
          "metadata": {
            "tags": []
          },
          "execution_count": 25
        }
      ]
    },
    {
      "cell_type": "code",
      "metadata": {
        "id": "Q92eFu2n9-37",
        "outputId": "7695dcef-e080-41fe-a1c1-8b03747d6da8",
        "colab": {
          "base_uri": "https://localhost:8080/",
          "height": 71
        }
      },
      "source": [
        "from gensim.models import KeyedVectors\n",
        "model = KeyedVectors.load_word2vec_format(word2vec_output_file, binary=False)"
      ],
      "execution_count": null,
      "outputs": [
        {
          "output_type": "stream",
          "text": [
            "/usr/local/lib/python3.6/dist-packages/smart_open/smart_open_lib.py:252: UserWarning: This function is deprecated, use smart_open.open instead. See the migration notes for details: https://github.com/RaRe-Technologies/smart_open/blob/master/README.rst#migrating-to-the-new-open-function\n",
            "  'See the migration notes for details: %s' % _MIGRATION_NOTES_URL\n"
          ],
          "name": "stderr"
        }
      ]
    },
    {
      "cell_type": "code",
      "metadata": {
        "id": "jB2_srZdnfsO",
        "outputId": "f6d7da8b-5340-4f2e-cac0-ef899367b01e",
        "colab": {
          "base_uri": "https://localhost:8080/",
          "height": 374
        }
      },
      "source": [
        "def distance(query, tag_set):\n",
        "  if len(tag_set) == 0:\n",
        "    return np.inf\n",
        "  lquery = query.lower().split()\n",
        "  prospect = ' '.join(tag_set).lower().split()\n",
        "  return model.wmdistance(lquery, prospect)\n",
        "\n",
        "def get_best_match_workshop(query):\n",
        "  return np.argmin([distance(query, ws) for ws in workshops.tags.values])\n",
        "\n",
        "print('{0:<70}{1:<40}{2:<40}'.format('Query', 'Predicted Workshop', 'Actual Workshop'))\n",
        "for i in range(20):\n",
        "  query = queries.iloc[i].query\n",
        "  predict_idx = get_best_match_workshop(query)\n",
        "  predicted = workshops.iloc[predict_idx].workshop\n",
        "  actual = queries.iloc[i].workshop\n",
        "  print('{0:<70}{1:<40}{2:<40}'.format(query, predicted, actual))"
      ],
      "execution_count": null,
      "outputs": [
        {
          "output_type": "stream",
          "text": [
            "Query                                                                 Predicted Workshop                      Actual Workshop                         \n",
            "Using machine learning                                                Machine Learning Part 1/2: Theory       Machine Learning Part 2/2: Applied      \n",
            "underlying math                                                       Machine Learning: Start Here            Machine Learning Part 1/2: Theory       \n",
            "The math portion                                                      Storytelling with Data                  Machine Learning Part 1/2: Theory       \n",
            "TensorFlow                                                            Introduction to Python                  Intro to Neural Networks                \n",
            "Statisticd                                                            Introduction to Python                  Stats for Data Scientists               \n",
            "Sampling bias                                                         Stats for Data Scientists               Stats for Data Scientists               \n",
            "Python beginners class                                                Introduction to Python                  Introduction to Python                  \n",
            "NLP                                                                   Data Visualization                      Natural Language Processing             \n",
            "Neural Networks                                                       Machine Learning: Start Here            Intro to Neural Networks                \n",
            "Natural language processing                                           Storytelling with Data                  Natural Language Processing             \n",
            "topics in deep learning                                               Reinforcement Learning                  Intro to Neural Networks                \n",
            "machine learning                                                      Machine Learning Part 1/2: Theory       Machine Learning Part 1/2: Theory       \n",
            "More detail about high dimensional data and related theory            Storytelling with Data                  Hacking Unsupervised Custering Algorithms\n",
            "data wrangling topics                                                 Storytelling with Data                  Data Wrangling                          \n",
            "data visualization techniques                                         Storytelling with Data                  Data Visualization                      \n",
            "basics about the programs that organize the data like Panda           Storytelling with Data                  Data Wrangling                          \n",
            "Machine learning, image processing                                    CNN's and Segmentation                  CNN's and Segmentation                  \n",
            "Machine learning                                                      Machine Learning Part 1/2: Theory       Machine Learning Part 1/2: Theory       \n",
            "Logistical regression vs linear                                       Machine Learning Part 1/2: Theory       Machine Learning Part 1/2: Theory       \n",
            "Intro to Python                                                       Introduction to Python                  Introduction to Python                  \n"
          ],
          "name": "stdout"
        }
      ]
    },
    {
      "cell_type": "markdown",
      "metadata": {
        "id": "X3LBGWrq7jVG"
      },
      "source": [
        "# Host On Web App?\n",
        "Show us all you got by building a dashboard webapp in Python at\n",
        "[streamlit.io](https://www.streamlit.io/)!"
      ]
    }
  ]
}